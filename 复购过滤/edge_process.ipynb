{
 "cells": [
  {
   "cell_type": "code",
   "execution_count": null,
   "metadata": {},
   "outputs": [
    {
     "name": "stdout",
     "output_type": "stream",
     "text": [
      "0\n",
      "100000000\n",
      "200000000\n",
      "300000000\n",
      "400000000\n",
      "500000000\n",
      "600000000\n"
     ]
    }
   ],
   "source": [
    "#计算相连边\n",
    "from collections import defaultdict\n",
    "import time\n",
    "corpus_list=[]\n",
    "edges=defaultdict(dict)\n",
    "num=0\n",
    "with open('./rmcid3/corpus_with_cid1_rmcid3.csv', encoding='utf8') as file:\n",
    "    for line in file:\n",
    "        if num%100000000==0:\n",
    "            print(num)\n",
    "        pw_ids = list(set([int(pw_idx) for pw_idx in line.strip().split(\",\")]))\n",
    "        txt_size = len(pw_ids)\n",
    "        if txt_size > 1:\n",
    "         for i in range(txt_size):\n",
    "             for j in range(i + 1, txt_size):\n",
    "                 pwid1 = pw_ids[i]\n",
    "                 pwid2 = pw_ids[j]\n",
    "                 id1 = min(pwid1, pwid2)\n",
    "                 id2 = max(pwid1, pwid2)\n",
    "                 if edges[id1].get(id2) is None:\n",
    "                     edges[id1][id2] = 1\n",
    "                 else:\n",
    "                     edges[id1][id2] += 1\n",
    "                 if edges[id2].get(id1) is None:\n",
    "                     edges[id2][id1] = 1\n",
    "                 else:\n",
    "                     edges[id2][id1] += 1\n",
    "        num+=1\n",
    "\n",
    "for max_edges_per_node in [-1]:\n",
    "    freq_percentile=1\n",
    "    #max_edges_per_node=20\n",
    "    for key in edges:\n",
    "        weighted_edges = list(edges[key].items())\n",
    "        weighted_edges.sort(key=lambda x: x[1], reverse=True)\n",
    "        if freq_percentile != 0:\n",
    "            all_num = sum([item[1] for item in weighted_edges])\n",
    "            freq_th = all_num * freq_percentile\n",
    "            tmp = []\n",
    "            s = 0\n",
    "            for item in weighted_edges:\n",
    "                if s <= freq_th:\n",
    "                    tmp.append(item)\n",
    "                    s += item[1]\n",
    "                else:\n",
    "                    break\n",
    "            edges[key] = dict(tmp)\n",
    "        if max_edges_per_node != -1:\n",
    "            n = min(max_edges_per_node, len(edges[key]))\n",
    "            edges[key] = dict(weighted_edges[:n])\n",
    "    file = open('base_relevant_'+str(max_edges_per_node)+'rmcid3_-1_all', 'w', encoding='utf8')\n",
    "    for key in edges.keys():\n",
    "        base = key\n",
    "        file.write(str(base) + ':')\n",
    "        for item in edges.get(key):\n",
    "            file.write(str(item)+',')\n",
    "        file.write(\"\\n\")\n",
    "    file.close()"
   ]
  },
  {
   "cell_type": "code",
   "execution_count": 1,
   "metadata": {},
   "outputs": [
    {
     "name": "stdout",
     "output_type": "stream",
     "text": [
      "0\n",
      "100000000\n",
      "200000000\n",
      "300000000\n",
      "400000000\n",
      "500000000\n",
      "600000000\n",
      "700000000\n",
      "800000000\n",
      "900000000\n",
      "1000000000\n",
      "1100000000\n",
      "1200000000\n"
     ]
    }
   ],
   "source": [
    "from collections import defaultdict\n",
    "import time\n",
    "corpus_list=[]\n",
    "edges=defaultdict(dict)\n",
    "num=0\n",
    "with open('./rmcid3/corpus_with_cid1_rmcid3.csv', encoding='utf8') as file:\n",
    "    for line in file:\n",
    "        if num%100000000==0:\n",
    "            print(num)\n",
    "        pw_ids = list(set([int(pw_idx) for pw_idx in line.strip().split(\",\")]))\n",
    "        txt_size = len(pw_ids)\n",
    "        if txt_size > 1:\n",
    "         for i in range(txt_size):\n",
    "             for j in range(i + 1, txt_size):\n",
    "                 pwid1 = pw_ids[i]\n",
    "                 pwid2 = pw_ids[j]\n",
    "                 id1 = min(pwid1, pwid2)\n",
    "                 id2 = max(pwid1, pwid2)\n",
    "                 if edges[id1].get(id2) is None:\n",
    "                     edges[id1][id2] = 1\n",
    "                 else:\n",
    "                     edges[id1][id2] += 1\n",
    "                 if edges[id2].get(id1) is None:\n",
    "                     edges[id2][id1] = 1\n",
    "                 else:\n",
    "                     edges[id2][id1] += 1\n",
    "        num+=1\n",
    "file = open('pw_pw_num', 'w', encoding='utf8')\n",
    "for key in edges.keys():\n",
    "    for item in edges.get(key):\n",
    "        base = key\n",
    "        file.write(str(base))\n",
    "        file.write('\\t')\n",
    "        file.write(str(item))\n",
    "        file.write('\\t')\n",
    "        file.write(str(edges.get(key).get(item)))\n",
    "        file.write(\"\\n\")\n",
    "file.close()"
   ]
  },
  {
   "cell_type": "code",
   "execution_count": null,
   "metadata": {},
   "outputs": [],
   "source": []
  }
 ],
 "metadata": {
  "kernelspec": {
   "display_name": "Python3 (PySpark)",
   "language": "python",
   "name": "python3"
  },
  "language_info": {
   "codemirror_mode": {
    "name": "ipython",
    "version": 3
   },
   "file_extension": ".py",
   "mimetype": "text/x-python",
   "name": "python",
   "nbconvert_exporter": "python",
   "pygments_lexer": "ipython3",
   "version": "3.6.7"
  }
 },
 "nbformat": 4,
 "nbformat_minor": 2
}
