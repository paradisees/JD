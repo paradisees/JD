{
 "cells": [
  {
   "cell_type": "code",
   "execution_count": 3,
   "metadata": {},
   "outputs": [
    {
     "name": "stdout",
     "output_type": "stream",
     "text": [
      "('<unk>', 0.08059281844400792)\n",
      "[('1672-计重秤', 0.999999999999603), ('1672-实木底座', 0.36901079206375814), ('1672-储物垫', 0.3039920495298031), ('1315-珍珠膏', 0.24794234641992383), ('6233-剪刀门', 0.24272962321861738), ('1620-稿纸', 0.23919438298430204), ('14065-小振膜', 0.23905180473393223), ('1315-料理机', 0.23818168758249478), ('9855-雪球', 0.23754862288109707), ('1318-消毒碗柜', 0.2361480654325217), ('737-布林', 0.2359029157349905), ('1318-家用梯', 0.23310176592844098), ('1672-瓷茶壶', 0.2320313486984069), ('1316-苹果干', 0.23087295108456932), ('14065-铜锤', 0.22861010140651702), ('1672-茶杯托盘', 0.22857570360898194), ('1672-酒吧灯', 0.22849317653113294), ('14065-直饮机', 0.226621881860971), ('1620-黄财神', 0.22644228880180647), ('15901-绒面鞋', 0.2264044577680476), ('1318-怪手', 0.22519035617552277), ('9855-炒菜锅铲', 0.22447116171556847), ('1672-创意茶盘', 0.2243696251886064), ('1315-泳衣裙', 0.222706546765051), ('1672-快锅', 0.2217320390197993), ('1315-摇摇乳', 0.22165999991179125), ('12259-黍米', 0.2210005333158859), ('1318-边几', 0.21994833076974796), ('15248-茶桌', 0.21955194539398992), ('1672-石瓢壶', 0.2195282166835815), ('1319-替芯', 0.2194887138514258), ('17329-鱼籽', 0.21944398068191842), ('1620-化妆桌', 0.21916042167168148), ('1318-架杆', 0.21893858224698987), ('6233-早餐杯', 0.21877866079473524), ('737-量杯', 0.21866738747228548), ('737-儿童床', 0.21861986988480064), ('14065-调理机', 0.21790058372072785), ('1318-竿架', 0.2174921714219107), ('1672-木托架', 0.21742350569505833), ('1319-拖鞋凉鞋', 0.21647153860193355), ('6144-银币', 0.21629699419393184), ('14065-耳麦', 0.21580548503200594), ('12473-风水尺', 0.2155486658978521), ('16750-压力锅', 0.2153256799217633), ('1318-训练带', 0.21501461565655455), ('16750-收敛水', 0.21429973909502317), ('9192-脂流茶', 0.21381542663903605), ('15248-花香枕芯', 0.21378523760896892), ('1672-獾毛刷', 0.21358531160714153)]\n"
     ]
    }
   ],
   "source": [
    "import math\n",
    "import numpy as np\n",
    "def dot_product(v1, v2):\n",
    "    return sum(a * b for a, b in zip(v1, v2))\n",
    "\n",
    "def magnitude(vector):\n",
    "    return math.sqrt(dot_product(vector, vector))\n",
    "\n",
    "def similarity(v1, v2):\n",
    "    return dot_product(v1, v2) / (magnitude(v1) * magnitude(v2) + .00000000001)\n",
    "    '''val1 = np.sqrt(sum([item ** 2 for item in v1]))\n",
    "    val2 = np.sqrt(sum([item ** 2 for item in v2]))\n",
    "    sim = v1.dot(v2.T) / (val1 * val2)\n",
    "    return sim'''\n",
    "\n",
    "item={}\n",
    "with open('vec_glv_475_rmcid3.txt', encoding='utf8') as file:\n",
    "    for line in file:\n",
    "        vec=[]\n",
    "        pws=[pw_idx for pw_idx in line.strip().split(\" \")]\n",
    "        #print(pws)\n",
    "        id=pws[0]\n",
    "        for content in pws[1:]:\n",
    "            vec.append(float(content))\n",
    "        item[id]=np.array(vec).T\n",
    "#print(item)\n",
    "def load_id2pw():\n",
    "    id2pw={}\n",
    "    i=1\n",
    "    for line in open('../id2pw.txt', encoding='utf8'):\n",
    "        cons = line.strip().split(\"\\t\")\n",
    "        try:\n",
    "            id2pw[str(i)]=cons[0]\n",
    "        except:\n",
    "            i+=1\n",
    "            continue\n",
    "        i+=1\n",
    "    return id2pw\n",
    "id2pw=load_id2pw()\n",
    "key_val={}\n",
    "for key in item.keys():\n",
    "    val=similarity(item['207254'],item[key])\n",
    "    key_val[key]=val\n",
    "key_val=sorted(key_val.items(),key=lambda x:x[1],reverse=True)\n",
    "out=[]\n",
    "\n",
    "for content in key_val:\n",
    "    try:\n",
    "        out.append((id2pw[content[0]],content[1]))\n",
    "    except:\n",
    "        print(content)\n",
    "print(out[:50])"
   ]
  },
  {
   "cell_type": "code",
   "execution_count": null,
   "metadata": {},
   "outputs": [],
   "source": []
  }
 ],
 "metadata": {
  "kernelspec": {
   "display_name": "Python3 (PySpark)",
   "language": "python",
   "name": "python3"
  },
  "language_info": {
   "codemirror_mode": {
    "name": "ipython",
    "version": 3
   },
   "file_extension": ".py",
   "mimetype": "text/x-python",
   "name": "python",
   "nbconvert_exporter": "python",
   "pygments_lexer": "ipython3",
   "version": "3.6.7"
  }
 },
 "nbformat": 4,
 "nbformat_minor": 2
}
