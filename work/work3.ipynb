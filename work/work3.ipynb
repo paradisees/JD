{
 "cells": [
  {
   "cell_type": "markdown",
   "metadata": {},
   "source": [
    "# 1.a Data process"
   ]
  },
  {
   "cell_type": "code",
   "execution_count": 20,
   "metadata": {},
   "outputs": [
    {
     "name": "stdout",
     "output_type": "stream",
     "text": [
      "Data process done\n"
     ]
    }
   ],
   "source": [
    "import numpy as np\n",
    "from sklearn.linear_model import (LinearRegression, Ridge,Lasso)\n",
    "from sklearn.metrics import mean_squared_error\n",
    "from sklearn import cross_validation,metrics\n",
    "label_val={'Bufonidae':0,'Dendrobatidae':1,'Hylidae':2,'Leptodactylidae':3,\n",
    "     'Adenomera':0,'Ameerega':1,'Dendropsophus':2,'Hypsiboas':3,'Leptodactylus':4,'Osteocephalus':5,'Rhinella':6,'Scinax':7,\n",
    "     'AdenomeraAndre':0,'AdenomeraHylaedactylus':1,'Ameeregatrivittata':2,'HylaMinuta':3,'HypsiboasCinerascens':4,'HypsiboasCordobae':5,'LeptodactylusFuscus':6,'OsteocephalusOophagus':7,'Rhinellagranulosa':8,'ScinaxRuber':9}\n",
    "def data_process(path):\n",
    "    raw_data=[]\n",
    "    raw_label=[]\n",
    "    with open(path, encoding='utf8') as file:\n",
    "        file.readline()\n",
    "        for line in file:\n",
    "            data=[]\n",
    "            for item in line.strip().split(','):\n",
    "                data.append(item)\n",
    "            raw_data.append([float(item) for item in data[:-4]])\n",
    "            raw_label.append([label_val[item] for item in data[-4:-1]])\n",
    "    train_data, test_data, train_label, test_label = cross_validation.train_test_split(\n",
    "    raw_data, raw_label, test_size=0.3, random_state=1)\n",
    "    return train_data,train_label,test_data,test_label\n",
    "data,label,test_data,test_label=data_process('./data.csv')\n",
    "label_fam,label_gen,label_spe=[],[],[]\n",
    "for i in range(len(label)):\n",
    "    label_fam.append(label[i][0])\n",
    "    label_gen.append(label[i][1])\n",
    "    label_spe.append(label[i][2])\n",
    "print('Data process done')"
   ]
  },
  {
   "cell_type": "markdown",
   "metadata": {},
   "source": [
    "# 1.b.i Hamming Loss"
   ]
  },
  {
   "cell_type": "code",
   "execution_count": 50,
   "metadata": {},
   "outputs": [],
   "source": [
    "from sklearn.metrics import hamming_loss\n",
    "def hamming(clf,label_name):\n",
    "    if label_name=='Family':\n",
    "        flag=0\n",
    "    elif label_name=='Genus':\n",
    "        flag=1\n",
    "    else:\n",
    "        flag=2\n",
    "    clf.fit(data,np.array(label)[:,flag])\n",
    "    predictions=clf.predict(test_data)\n",
    "    print('hamming_loss is :',hamming_loss(np.array(test_label)[:,flag], predictions))"
   ]
  },
  {
   "cell_type": "markdown",
   "metadata": {},
   "source": [
    "# 1.b.ii SVM"
   ]
  },
  {
   "cell_type": "code",
   "execution_count": 42,
   "metadata": {},
   "outputs": [
    {
     "name": "stdout",
     "output_type": "stream",
     "text": [
      "The parameter for label Family is: C= 6,gamma= 3\n",
      "hamming_loss is : 0.008800370541917554\n",
      "The parameter for label Genus is: C= 5,gamma= 3\n",
      "hamming_loss is : 0.0111162575266327\n",
      "The parameter for label Species is: C= 7,gamma= 3\n",
      "hamming_loss is : 0.01157943492357573\n",
      "SVM model is done\n"
     ]
    }
   ],
   "source": [
    "from sklearn import multiclass\n",
    "from sklearn.preprocessing import MultiLabelBinarizer\n",
    "from sklearn import svm\n",
    "def cv_parameter(model_name,data_train,label_train):\n",
    "    from sklearn.grid_search import GridSearchCV\n",
    "    if model_name=='SVM':\n",
    "        parameters = {'C': [i for i in range(1,10)],'gamma': [0.001, 0.01, 0.1,1,3,5,7,10]}\n",
    "        gsearch1 = GridSearchCV(estimator=svm.SVC(kernel='rbf',decision_function_shape='ovr'),\n",
    "                            param_grid=parameters, cv=10)\n",
    "        gsearch1.fit(data_train, label_train)\n",
    "        #print(gsearch1.grid_scores_,gsearch1.best_params_, gsearch1.best_score_)\n",
    "        param=[]\n",
    "        for key in gsearch1.best_params_.keys():\n",
    "            param.append(gsearch1.best_params_[key])\n",
    "        return param\n",
    "def svm_model(data_train,label_train,label_name):\n",
    "    param=cv_parameter('SVM',data_train,label_train)\n",
    "    clf = svm.SVC(kernel='rbf', C=param[0],gamma=param[1],decision_function_shape='ovr')\n",
    "    print('The parameter for label {} is: C= {},gamma= {}'.format(label_name,param[0],param[1]))\n",
    "    hamming(clf,label_name)\n",
    "    return clf\n",
    "svm_fam=svm_model(data,label_fam,'Family')\n",
    "svm_gen=svm_model(data,label_gen,'Genus')\n",
    "svm_spe=svm_model(data,label_spe,'Species')\n",
    "print('SVM model is done')"
   ]
  },
  {
   "cell_type": "markdown",
   "metadata": {},
   "source": [
    "As for solving the problem with both standardized and raw data, the data are already normalized."
   ]
  },
  {
   "cell_type": "markdown",
   "metadata": {},
   "source": [
    "# 1.b.iii L1-penalized SVM"
   ]
  },
  {
   "cell_type": "code",
   "execution_count": 43,
   "metadata": {},
   "outputs": [
    {
     "name": "stdout",
     "output_type": "stream",
     "text": [
      "The parameter for label Family is: C= 5\n",
      "hamming_loss is : 0.06484483557202408\n",
      "The parameter for label Genus is: C= 7\n",
      "hamming_loss is : 0.0555812876331635\n",
      "The parameter for label Species is: C= 3\n",
      "hamming_loss is : 0.04353867531264474\n",
      "Linear SVM model is done\n"
     ]
    }
   ],
   "source": [
    "from sklearn import svm\n",
    "def cv_parameter(model_name,data_train,label_train):\n",
    "    from sklearn.grid_search import GridSearchCV\n",
    "    if model_name=='SVM':\n",
    "        parameters = {'C': [i for i in range(1,10)]}\n",
    "        gsearch1 = GridSearchCV(estimator=svm.LinearSVC(penalty='l1',multi_class='ovr',dual=False),\n",
    "                            param_grid=parameters, cv=10)\n",
    "        gsearch1.fit(data_train, label_train)\n",
    "        param=[]\n",
    "        for key in gsearch1.best_params_.keys():\n",
    "            param.append(gsearch1.best_params_[key])\n",
    "        return param\n",
    "def svm_model(data_train,label_train,label_name):\n",
    "    param=cv_parameter('SVM',data_train,label_train)\n",
    "    clf = svm.LinearSVC(C=param[0],penalty='l1',multi_class='ovr',dual=False)\n",
    "    print('The parameter for label {} is: C= {}'.format(label_name,param[0]))\n",
    "    hamming(clf,label_name)\n",
    "    return clf\n",
    "svm_fam_l1=svm_model(data,label_fam,'Family')\n",
    "svm_gen_l1=svm_model(data,label_gen,'Genus')\n",
    "svm_spe_l1=svm_model(data,label_spe,'Species')\n",
    "print('Linear SVM model is done')"
   ]
  },
  {
   "cell_type": "markdown",
   "metadata": {},
   "source": [
    "# 1.b.iv SVM with Smote"
   ]
  },
  {
   "cell_type": "code",
   "execution_count": 44,
   "metadata": {},
   "outputs": [
    {
     "name": "stdout",
     "output_type": "stream",
     "text": [
      "Resampled dataset shape Counter({3: 3092, 2: 3092, 0: 3092, 1: 3092})\n",
      "Resampled dataset shape Counter({0: 2891, 3: 2891, 6: 2891, 4: 2891, 1: 2891, 2: 2891, 7: 2891, 5: 2891})\n",
      "Resampled dataset shape Counter({1: 2404, 0: 2404, 4: 2404, 8: 2404, 6: 2404, 2: 2404, 3: 2404, 9: 2404, 5: 2404, 7: 2404})\n",
      "The parameter for label Family is: C= 5\n",
      "hamming_loss is : 0.06577119036591014\n",
      "The parameter for label Genus is: C= 6\n",
      "hamming_loss is : 0.05511811023622047\n",
      "The parameter for label Species is: C= 4\n",
      "hamming_loss is : 0.0444650301065308\n",
      "Linear SVM model with Smote is done\n"
     ]
    }
   ],
   "source": [
    "from imblearn.over_sampling import SMOTE\n",
    "from collections import Counter\n",
    "def Smote_process(data_train,label_train,label_name):\n",
    "    sm = SMOTE(random_state=1113)\n",
    "    x_new, y_new = sm.fit_resample(data_train, label_train)\n",
    "    print('Resampled dataset shape %s' % Counter(y_new))\n",
    "    data = np.array(x_new)\n",
    "    mark = np.array([item for item in y_new])\n",
    "    return data,mark\n",
    "data_fam_new,label_fam_new=Smote_process(data,label_fam,'Family')\n",
    "data_gen_new,label_gen_new=Smote_process(data,label_gen,'Genus')\n",
    "data_spe_new,label_spe_new=Smote_process(data,label_spe,'Species')\n",
    "\n",
    "from sklearn import svm\n",
    "def cv_parameter(model_name,data_train,label_train):\n",
    "    from sklearn.grid_search import GridSearchCV\n",
    "    if model_name=='SVM':\n",
    "        parameters = {'C': [i for i in range(1,10)]}\n",
    "        gsearch1 = GridSearchCV(estimator=svm.LinearSVC(penalty='l1',multi_class='ovr',dual=False),\n",
    "                            param_grid=parameters, cv=10)\n",
    "        gsearch1.fit(data_train, label_train)\n",
    "        param=[]\n",
    "        for key in gsearch1.best_params_.keys():\n",
    "            param.append(gsearch1.best_params_[key])\n",
    "        return param\n",
    "def svm_model(data_train,label_train,label_name):\n",
    "    param=cv_parameter('SVM',data_train,label_train)\n",
    "    clf = svm.LinearSVC(C=param[0],penalty='l1',multi_class='ovr',dual=False)\n",
    "    print('The parameter for label {} is: C= {}'.format(label_name,param[0]))\n",
    "    hamming(clf,label_name)\n",
    "    return clf\n",
    "svm_fam_smote=svm_model(data_fam_new,label_fam_new,'Family')\n",
    "svm_gen_smote=svm_model(data_gen_new,label_gen_new,'Genus')\n",
    "svm_spe_smote=svm_model(data_spe_new,label_spe_new,'Species')\n",
    "print('Linear SVM model with Smote is done')"
   ]
  },
  {
   "cell_type": "markdown",
   "metadata": {},
   "source": [
    "# 1.b.v Classify chain"
   ]
  },
  {
   "cell_type": "code",
   "execution_count": 55,
   "metadata": {},
   "outputs": [
    {
     "name": "stdout",
     "output_type": "stream",
     "text": [
      "ClassifierChain for label Family, the acc is 0.9776657929799415, recall is 0.9337073905377608, confusion is [[  15    0    2    3]\n",
      " [   0  155    0    0]\n",
      " [   1    1  650    4]\n",
      " [   0    0    8 1320]], and auc is 0.9648482632482442\n",
      "hamming_loss is : 0.008800370541917554\n",
      "ClassifierChain for label Genus, the acc is 0.9675390222347514, recall is 0.9364488348387168, confusion is [[1253    0    2    3    0    1    0    0]\n",
      " [   0  155    0    0    0    0    0    0]\n",
      " [   4    1   96    0    0    0    0    0]\n",
      " [   0    0    0  479    1    1    0    1]\n",
      " [   0    0    0    2   67    0    0    0]\n",
      " [   1    0    0    3    0   30    0    0]\n",
      " [   0    0    0    2    3    0   15    0]\n",
      " [   1    0    0    0    0    0    1   37]], and auc is 0.9671059940729121\n",
      "hamming_loss is : 0.012505789717461788\n",
      "ClassifierChain for label Species, the acc is 0.9708288003198039, recall is 0.9466171189480017, confusion is [[ 182    0    0    1    0    1    0    1    0    0]\n",
      " [   0 1071    0    1    0    2    0    0    0    0]\n",
      " [   0    0  155    0    0    0    0    0    0    0]\n",
      " [   0    2    1   96    0    2    0    0    0    0]\n",
      " [   0    0    0    0  136    0    1    1    0    0]\n",
      " [   0    0    0    0    0  343    0    0    0    1]\n",
      " [   0    0    0    0    0    2   67    0    0    0]\n",
      " [   0    0    0    0    2    2    0   30    0    0]\n",
      " [   0    0    0    0    1    1    3    0   15    0]\n",
      " [   1    0    0    0    0    0    0    0    1   37]], and auc is 0.9725781076353591\n",
      "hamming_loss is : 0.012505789717461788\n"
     ]
    }
   ],
   "source": [
    "from skmultilearn.problem_transform import ClassifierChain\n",
    "from sklearn import svm\n",
    "from sklearn import preprocessing\n",
    "clf_chain = ClassifierChain(svm.SVC(kernel='rbf', C=6,gamma=3,decision_function_shape='ovr'))\n",
    "clf_chain.fit(np.array(data), np.array(label))\n",
    "\n",
    "predictions=clf_chain.predict(test_data)\n",
    "#print(np.array(test_label),predictions.A)\n",
    "for i in range(3):\n",
    "    label_name=['Family','Genus','Species']\n",
    "    acc=metrics.precision_score(np.array(test_label)[:,i],predictions.A[:,i],average='macro')\n",
    "    recall=metrics.recall_score(np.array(test_label)[:,i],predictions.A[:,i],average='macro')\n",
    "\n",
    "    confusion=metrics.confusion_matrix(np.array(test_label)[:,i],predictions.A[:,i])\n",
    "\n",
    "    lb = preprocessing.LabelBinarizer()\n",
    "    lb.fit(np.array(test_label)[:,i])\n",
    "    y_test = lb.transform(np.array(test_label)[:,i])\n",
    "    y_pred = lb.transform(predictions.A[:,i])\n",
    "    auc=metrics.roc_auc_score(y_test,y_pred)\n",
    "    print('{} for label {}, the acc is {}, recall is {}, confusion is {}, and auc is {}'.format('ClassifierChain',label_name[i],acc,recall,confusion,auc))\n",
    "    print('hamming_loss is :',hamming_loss(np.array(test_label)[:,i], predictions.A[:,i]))"
   ]
  },
  {
   "cell_type": "markdown",
   "metadata": {},
   "source": [
    "# 1.b.vi Index compute"
   ]
  },
  {
   "cell_type": "code",
   "execution_count": 232,
   "metadata": {},
   "outputs": [
    {
     "name": "stdout",
     "output_type": "stream",
     "text": [
      "Svm for label Family, the acc is 0.9776657929799415, recall is 0.9337073905377608, confusion is [[  15    0    2    3]\n",
      " [   0  155    0    0]\n",
      " [   1    1  650    4]\n",
      " [   0    0    8 1320]], and auc is 0.9648482632482442\n",
      "Svm for label Genus, the acc is 0.9801958860799931, recall is 0.9409908719531632, confusion is [[1254    0    2    3    0    0    0    0]\n",
      " [   0  155    0    0    0    0    0    0]\n",
      " [   4    0   97    0    0    0    0    0]\n",
      " [   0    0    0  479    1    1    0    1]\n",
      " [   1    0    0    1   67    0    0    0]\n",
      " [   0    0    0    4    0   30    0    0]\n",
      " [   1    0    0    1    3    0   15    0]\n",
      " [   1    0    0    0    0    0    0   38]], and auc is 0.969434655769102\n",
      "Svm for label Species, the acc is 0.9794873295859711, recall is 0.9501713205220053, confusion is [[ 182    0    0    1    0    2    0    0    0    0]\n",
      " [   0 1071    0    1    0    2    0    0    0    0]\n",
      " [   0    0  155    0    0    0    0    0    0    0]\n",
      " [   0    2    1   97    0    1    0    0    0    0]\n",
      " [   0    0    0    0  136    0    1    1    0    0]\n",
      " [   0    0    0    0    0  343    0    0    0    1]\n",
      " [   0    0    0    1    0    1   67    0    0    0]\n",
      " [   0    0    0    0    2    2    0   30    0    0]\n",
      " [   0    0    0    0    1    1    3    0   15    0]\n",
      " [   1    0    0    0    0    0    0    0    0   38]], and auc is 0.9744053660201029\n",
      "Svm_l1 for label Family, the acc is 0.6826294255212568, recall is 0.6834235150673504, confusion is [[   0    0   15    5]\n",
      " [   0  134   14    7]\n",
      " [   1   12  585   58]\n",
      " [   0   10   20 1298]], and auc is 0.8256763980034374\n",
      "Svm_l1 for label Genus, the acc is 0.9446679469875046, recall is 0.7772340930616473, confusion is [[1244    7    1    7    0    0    0    0]\n",
      " [   9  143    2    1    0    0    0    0]\n",
      " [  27    3   66    5    0    0    0    0]\n",
      " [  12    0    0  467    2    0    1    0]\n",
      " [   2    0    1    7   59    0    0    0]\n",
      " [   3    1    0   17    0   13    0    0]\n",
      " [   8    0    0    1    0    0   11    0]\n",
      " [   0    0    0    3    0    0    1   35]], and auc is 0.8822701210127206\n",
      "Svm_l1 for label Species, the acc is 0.9273851318227303, recall is 0.868030242378244, confusion is [[ 174    0    7    1    0    3    0    0    0    0]\n",
      " [   0 1070    1    0    1    1    0    0    0    1]\n",
      " [   3    0  146    4    0    1    0    1    0    0]\n",
      " [   7   11    5   73    2    3    0    0    0    0]\n",
      " [   1    0    0    0  135    2    0    0    0    0]\n",
      " [   0    3    0    0    4  335    1    0    0    1]\n",
      " [   0    1    0    1    2    3   62    0    0    0]\n",
      " [   1    0    1    0    8    5    0   18    1    0]\n",
      " [   4    0    0    0    0    0    1    0   15    0]\n",
      " [   0    0    0    0    0    0    0    0    2   37]], and auc is 0.9313184104889448\n",
      "Svm_smote for label Family, the acc is 0.682256794704162, recall is 0.6832352620553023, confusion is [[   0    0   15    5]\n",
      " [   0  134   14    7]\n",
      " [   1   12  585   58]\n",
      " [   0   10   21 1297]], and auc is 0.8254991044980787\n",
      "Svm_smote for label Genus, the acc is 0.9397603149064706, recall is 0.782738286571237, confusion is [[1244    7    1    6    0    1    0    0]\n",
      " [   9  144    2    0    0    0    0    0]\n",
      " [  27    3   66    5    0    0    0    0]\n",
      " [  12    0    0  468    1    0    1    0]\n",
      " [   3    0    1    7   58    0    0    0]\n",
      " [   3    1    0   17    0   13    0    0]\n",
      " [   8    0    0    0    0    0   12    0]\n",
      " [   0    0    0    3    0    0    1   35]], and auc is 0.8850650726624386\n",
      "Svm_smote for label Species, the acc is 0.9284362664254362, recall is 0.8694542813948857, confusion is [[ 174    0    7    1    0    3    0    0    0    0]\n",
      " [   0 1070    1    0    1    1    0    0    0    1]\n",
      " [   3    0  146    4    0    0    0    2    0    0]\n",
      " [   7   11    5   74    1    3    0    0    0    0]\n",
      " [   1    0    0    0  134    3    0    0    0    0]\n",
      " [   0    4    0    0    4  334    1    0    0    1]\n",
      " [   0    1    0    1    1    3   63    0    0    0]\n",
      " [   1    0    1    0    8    5    0   18    1    0]\n",
      " [   4    0    0    0    0    0    1    0   15    0]\n",
      " [   0    0    0    0    0    1    0    0    1   37]], and auc is 0.9320061252911158\n"
     ]
    }
   ],
   "source": [
    "from sklearn.preprocessing import LabelBinarizer\n",
    "def compute_metrics(clf,model_name,label_name):\n",
    "    if label_name=='Family':\n",
    "        flag=0\n",
    "    elif label_name=='Genus':\n",
    "        flag=1\n",
    "    else:\n",
    "        flag=2\n",
    "    label_tmp=np.array(label)[:,flag]\n",
    "    test_label_tmp=np.array(test_label)[:,flag]\n",
    "    clf.fit(np.array(data), label_tmp)\n",
    "    predictions=clf.predict(test_data)\n",
    "    #print(test_label_tmp,predictions)\n",
    "    acc=metrics.precision_score(test_label_tmp,predictions,average='macro')\n",
    "    recall=metrics.recall_score(test_label_tmp,predictions,average='macro')\n",
    "    lb = LabelBinarizer()\n",
    "    lb.fit(label_tmp)\n",
    "    y_test = lb.transform(test_label_tmp)\n",
    "    y_pred = lb.transform(predictions)\n",
    "    confusion=metrics.confusion_matrix(y_test.argmax(axis=1),y_pred.argmax(axis=1))\n",
    "    auc=metrics.roc_auc_score(y_test,y_pred)\n",
    "    #confusion=metrics.confusion_matrix(np.array(test_label)[:,flag],predictions)\n",
    "    #auc=metrics.roc_auc_score(np.array(test_label)[:,flag],predictions,average='macro')\n",
    "    print('{} for label {}, the acc is {}, recall is {}, confusion is {}, and auc is {}'.format(model_name,label_name,acc,recall,confusion,auc))\n",
    "compute_metrics(svm_fam,'Svm','Family')\n",
    "compute_metrics(svm_gen,'Svm','Genus')\n",
    "compute_metrics(svm_spe,'Svm','Species')\n",
    "compute_metrics(svm_fam_l1,'Svm_l1','Family')\n",
    "compute_metrics(svm_gen_l1,'Svm_l1','Genus')\n",
    "compute_metrics(svm_spe_l1,'Svm_l1','Species')\n",
    "compute_metrics(svm_fam_smote,'Svm_smote','Family')\n",
    "compute_metrics(svm_gen_smote,'Svm_smote','Genus')\n",
    "compute_metrics(svm_spe_smote,'Svm_smote','Species')\n"
   ]
  },
  {
   "cell_type": "markdown",
   "metadata": {},
   "source": [
    "The evaluation methods are divided into two categories: one is based on measurement of labels; the other is based on measurement on samples. In this work, I am going to use metrics based on label: calculate the index on each label just like multiple categories.\n",
    "Conclusion: According to the data above, we can see the SVM with L2 gets the best perfomance, which is better than SVM with L1 and SVM with Smote. Besides, when we use ClassifierChain, it also has best performance, which is similiar to SVM with L1."
   ]
  },
  {
   "cell_type": "code",
   "execution_count": null,
   "metadata": {},
   "outputs": [],
   "source": []
  }
 ],
 "metadata": {
  "kernelspec": {
   "display_name": "Python3 (PySpark)",
   "language": "python",
   "name": "python3"
  },
  "language_info": {
   "codemirror_mode": {
    "name": "ipython",
    "version": 3
   },
   "file_extension": ".py",
   "mimetype": "text/x-python",
   "name": "python",
   "nbconvert_exporter": "python",
   "pygments_lexer": "ipython3",
   "version": "3.6.4"
  }
 },
 "nbformat": 4,
 "nbformat_minor": 2
}
